{
 "cells": [
  {
   "cell_type": "markdown",
   "metadata": {},
   "source": [
    "### Merge Overlapping Intervals\n",
    "\n",
    "**Problem**: Given a set of time intervals in any order, merge all overlapping intervals, such that the result contains only mutually exclusive intervals. Let the intervals be represented as pairs of integers for simplicity. \n",
    "\n",
    "**Solution**\n",
    "- Sort the intervals based on start time of the interval\n",
    "- Traverse the sorted list of intervals and keep exclusive intervals into a Stack"
   ]
  },
  {
   "cell_type": "code",
   "execution_count": 2,
   "metadata": {},
   "outputs": [],
   "source": [
    "#Function to check if two intervals overlap\n",
    "def checkOverlap(i1, i2):\n",
    "    if(i1[0]<=i2[0] and i2[0]<=i1[1]):\n",
    "        return True\n",
    "    elif(i2[0]<=i1[0] and i1[0]<=i2[1]):\n",
    "        return True\n",
    "    else:\n",
    "        return False\n",
    "\n",
    "#Function to merge two overlapping intervals\n",
    "def mergeIntervals(i1, i2):\n",
    "        return (min(i1[0], i2[0]), max(i1[1], i2[1]))"
   ]
  },
  {
   "cell_type": "code",
   "execution_count": 3,
   "metadata": {},
   "outputs": [
    {
     "data": {
      "text/plain": [
       "[(1, 3), (2, 4), (5, 7), (6, 8)]"
      ]
     },
     "execution_count": 3,
     "metadata": {},
     "output_type": "execute_result"
    }
   ],
   "source": [
    "intervals = [(1,3), (6,8), (2,4), (5,7)]\n",
    "N = len(intervals)\n",
    "\n",
    "#Sort the intervals based on start time\n",
    "intervals.sort(key = lambda x: x[0])\n",
    "intervals"
   ]
  },
  {
   "cell_type": "code",
   "execution_count": 4,
   "metadata": {},
   "outputs": [],
   "source": [
    "from collections import deque\n",
    "def top(stack):\n",
    "    return stack[len(stack)-1]\n",
    "\n",
    "stack = deque()\n",
    "stack.append(intervals[0])\n",
    "for i in range(1, N):\n",
    "    top_interval = top(stack)\n",
    "    if checkOverlap(top_interval, intervals[i]):\n",
    "        merged_ = mergeIntervals(top_interval, intervals[i])\n",
    "        stack.pop()\n",
    "        stack.append(merged_)\n",
    "    else:\n",
    "        stack.append(intervals[i])\n",
    "stack"
   ]
  }
 ],
 "metadata": {
  "kernelspec": {
   "display_name": "Python 3",
   "language": "python",
   "name": "python3"
  },
  "language_info": {
   "codemirror_mode": {
    "name": "ipython",
    "version": 3
   },
   "file_extension": ".py",
   "mimetype": "text/x-python",
   "name": "python",
   "nbconvert_exporter": "python",
   "pygments_lexer": "ipython3",
   "version": "3.7.1"
  }
 },
 "nbformat": 4,
 "nbformat_minor": 2
}
