{
 "cells": [
  {
   "cell_type": "markdown",
   "metadata": {},
   "source": [
    "## The Problem\n",
    "\n",
    "Given a text _txt_ of length n and a pattern _pat_ of length __m__, write a function _search(char pat[], char txt[])_ that prints all occurrences of _pat_ in _txt_. You may assume that n > m. "
   ]
  },
  {
   "cell_type": "markdown",
   "metadata": {},
   "source": [
    "### Knuth Moriss Pratt Algorithm\n",
    "\n",
    "The key idea is to find repeated patterns in the Pattern _pat_ and calculating LPS (Longest Prefix which is also a suffix) Array beforehand.<br>\n",
    "Complexity: O(n)"
   ]
  },
  {
   "cell_type": "code",
   "execution_count": 1,
   "metadata": {},
   "outputs": [],
   "source": [
    "def computeLPS(pat):\n",
    "    M = len(pat)\n",
    "    LPS = [0]*M\n",
    "    i = 1\n",
    "    prefix_len = 0\n",
    "    while (i < M):\n",
    "        if (pat[i] == pat[prefix_len]):\n",
    "            LPS[i] = prefix_len + 1\n",
    "            prefix_len = prefix_len+1\n",
    "            i = i+1\n",
    "        else:\n",
    "            if prefix_len != 0:\n",
    "                prefix_len = LPS[prefix_len-1]\n",
    "            else:\n",
    "                LPS[i] = 0\n",
    "                i = i+1\n",
    "    return LPS"
   ]
  },
  {
   "cell_type": "code",
   "execution_count": 2,
   "metadata": {},
   "outputs": [
    {
     "data": {
      "text/plain": [
       "[0, 1, 0, 1, 2, 0]"
      ]
     },
     "execution_count": 2,
     "metadata": {},
     "output_type": "execute_result"
    }
   ],
   "source": [
    "computeLPS('aabaac')"
   ]
  },
  {
   "cell_type": "code",
   "execution_count": 3,
   "metadata": {},
   "outputs": [],
   "source": [
    "def findPattern(txt, pat):\n",
    "    N = len(txt)\n",
    "    M = len(pat)\n",
    "    lps = computeLPS(pat)\n",
    "    i = 0\n",
    "    j = 0\n",
    "    while(i < N):\n",
    "        if (txt[i] == pat[j]):\n",
    "            i = i+1\n",
    "            j = j+1\n",
    "        else:\n",
    "            if j!=0:\n",
    "                j = lps[j-1]\n",
    "            else:\n",
    "                i = i+1\n",
    "        if j == M:\n",
    "            print(f'Pattern found in the Text at {i-M}-{i}')\n",
    "            j = lps[j-1]"
   ]
  },
  {
   "cell_type": "code",
   "execution_count": 4,
   "metadata": {},
   "outputs": [
    {
     "name": "stdout",
     "output_type": "stream",
     "text": [
      "Pattern found in the Text at 2-5\n"
     ]
    }
   ],
   "source": [
    "findPattern('aaaab', 'aab')"
   ]
  },
  {
   "cell_type": "markdown",
   "metadata": {},
   "source": [
    "### Rabin-Karp Algorithm\n",
    "\n",
    "The key idea is to compare a hash value of the Pattern _pat_ with the substrings of same length in the Text _txt_. The hash value is calculated from a rolling Hash function with following the property.<br>\n",
    "Hash at the next shift must be efficiently computable from the current hash value and next character in _txt_, i.e., rehash must be O(1) operation.<br>\n",
    "Complexity: O(n)"
   ]
  },
  {
   "cell_type": "code",
   "execution_count": 5,
   "metadata": {},
   "outputs": [],
   "source": [
    "# Following program is the python implementation of Rabin Karp Algorithm given in CLRS book \n",
    "  \n",
    "# d is the number of unique characters in the input alphabet \n",
    "d = 256\n",
    " \n",
    "def search(pat, txt, q): \n",
    "    M = len(pat) \n",
    "    N = len(txt) \n",
    "    i = 0\n",
    "    j = 0\n",
    "    p = 0    # hash value for pattern \n",
    "    t = 0    # hash value for txt \n",
    "    h = 1    # The highest power in Rabin Karp Hash function\n",
    "  \n",
    "    # The value of h would be \"pow(d, M-1)%q\" \n",
    "    for i in range(M-1): \n",
    "        h = (h*d)%q \n",
    "  \n",
    "    # Calculate the hash value of pattern and first window of text \n",
    "    for i in range(M): \n",
    "        p = (d*p + ord(pat[i]))%q\n",
    "        t = (d*t + ord(txt[i]))%q\n",
    "\n",
    "    # Slide the pattern over text one by one \n",
    "    for i in range(N-M+1): \n",
    "        # Check the hash values of current window of text and pattern\n",
    "        # if the hash values match then only check for characters on by one\n",
    "        if p==t:\n",
    "            # Check for characters one by one \n",
    "            for j in range(M): \n",
    "                if txt[i+j] != pat[j]: break\n",
    "                else: j+=1\n",
    "  \n",
    "            # if p == t and pat = txt[i, i+1, ...i+M-1] (ie, the Substring matches the pattern)\n",
    "            if j==M: \n",
    "                print(f'Pattern found in the Text at {i}-{i+M-1}')\n",
    "  \n",
    "        # Calculate hash value for next window of text: Remove leading digit, add trailing digit \n",
    "        if i < N-M: \n",
    "            t = (d*(t-ord(txt[i])*h) + ord(txt[i+M]))%q\n",
    "            # We might get negative values of t, converting it to positive \n",
    "            if t < 0: t = t+q"
   ]
  },
  {
   "cell_type": "code",
   "execution_count": 6,
   "metadata": {},
   "outputs": [
    {
     "name": "stdout",
     "output_type": "stream",
     "text": [
      "Pattern found in the Text at 0-3\n",
      "Pattern found in the Text at 10-13\n"
     ]
    }
   ],
   "source": [
    "txt = \"GEEKS FOR GEEKS\"\n",
    "pat = \"GEEK\"\n",
    "q = 101                # A prime number \n",
    "\n",
    "search(pat,txt,q)"
   ]
  },
  {
   "cell_type": "code",
   "execution_count": null,
   "metadata": {},
   "outputs": [],
   "source": []
  }
 ],
 "metadata": {
  "kernelspec": {
   "display_name": "Python 3",
   "language": "python",
   "name": "python3"
  },
  "language_info": {
   "codemirror_mode": {
    "name": "ipython",
    "version": 3
   },
   "file_extension": ".py",
   "mimetype": "text/x-python",
   "name": "python",
   "nbconvert_exporter": "python",
   "pygments_lexer": "ipython3",
   "version": "3.7.1"
  }
 },
 "nbformat": 4,
 "nbformat_minor": 2
}
