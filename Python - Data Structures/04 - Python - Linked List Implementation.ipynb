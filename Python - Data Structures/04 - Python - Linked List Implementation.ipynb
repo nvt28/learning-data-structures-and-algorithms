{
 "cells": [
  {
   "cell_type": "markdown",
   "metadata": {},
   "source": [
    "## Linked List\n",
    "- Linked List is a linear data structure. \n",
    "- Unlike arrays, linked list elements are not stored at a contiguous location, so random access is not possible\n",
    "- The elements are linked using pointers, so extra memory space for a pointer is required with each element of the list.\n",
    "<br>\n",
    "\n",
    "There can be multiple variations of Linked lists, such as:\n",
    "- **Singly Linked List**: Each node as a single pointer to the next node\n",
    "- **Doubly Linked List**: Each node has two pointers, one to the next node, the other to the previous node\n",
    "- **Circular Linked List**: The last node in the list has pointer to the first node of the list (unlike non-circular linked lists where the last node points to `NULL`)"
   ]
  },
  {
   "cell_type": "markdown",
   "metadata": {},
   "source": [
    "##### Functions associated with Linked List are:\n",
    "\n",
    "- **List Traversal**<br>\n",
    "Traversing(or iterating) means going through every single node, starting with the head and ending on the node whose link is None. An \\_\\_iter\\_\\_ function can be defined to traverse linked lists so that it behaves more like a normal list. Defining Python’s built-in methods to achieve the said behavior makes the linked list implementation more Pythonic.\n",
    "\n",
    "- **Insertions into the List**<br>\n",
    "New nodes can be added to the linked list either at the beginning, or at the end or somewhere inbetween. For non-circular linked lists, new node can be inserted at Head in O(1), but insertion at the end requires a full travesal of the linked list.\n",
    "\n",
    "- **Deletions from the List**<br>\n",
    "Existing nodes can be deleted from the linked list either at the beginning, or at the end or any specific node. For non-circular linked lists, the node pointed by the Head, can be deleted in O(1), but deletion of the last node requires a full travesal of the linked list.\n",
    "<br>\n",
    "\n",
    "|Function | Description | Time Complexity|\n",
    "|---|---|---|\n",
    "|`traverse()`|Traverses the list and prints each element| O(n) |\n",
    "|`insert_at_beginning(X)`|Inserts a new node as the first node of the list | O(1) |\n",
    "|`insert_at_end(X)`|Inserts a new node as the last node of the list| O(n) |\n",
    "|`remove_from_beginning()`|Deletes the first node of the list, the second node become the first | O(1) |\n",
    "|`remove_from_end()`|Deletes the last node of the list| O(n) |\n",
    "|`len()`|Returns the size of the linked list| O(1) |"
   ]
  },
  {
   "cell_type": "markdown",
   "metadata": {},
   "source": [
    "#### Representation:\n",
    "A linked list is represented by a pointer to the first node of the linked list. The first node is called the head. If the linked list is empty, then the value of the head is `NULL`. Each node in a list consists of at least two parts:\n",
    "- Data\n",
    "- Pointer (Or reference) to the next node\n",
    "\n",
    "\n",
    "In C, we can represent a node using structures.\n",
    "In Java, C# or Python, Linked List can be represented as a class and a Node as a separate class. The Linked List class contains a reference of Node class type.<br>\n",
    "Python package `collections.deque` uses an implementation of a linked list in which you can access, insert, or remove elements from the beginning or end of a list with constant O(1) performance."
   ]
  },
  {
   "cell_type": "code",
   "execution_count": 2,
   "metadata": {},
   "outputs": [],
   "source": [
    "class Node:\n",
    "    def __init__(self, data):\n",
    "        self.data = data\n",
    "        self.next = None\n",
    "\n",
    "    # The __repr__ function is added to have a more readable representation of the Node object\n",
    "    def __repr__(self):\n",
    "        return self.data\n",
    "\n",
    "class SinglyLinkedList:\n",
    "    def __init__(self):\n",
    "        self.head = None\n",
    "    \n",
    "    # The __repr__ function is added to have a more readable representation of the SinglyLinkedList object\n",
    "    def __repr__(self):\n",
    "        node = self.head\n",
    "        nodes = []\n",
    "        while node is not None:\n",
    "            nodes.append(node.data)\n",
    "            node = node.next\n",
    "        nodes.append(\"None\")\n",
    "        return \" -> \".join(nodes)\n",
    "    \n",
    "    #The __iter__ function is added for list traversal. It yields each element of the list. \n",
    "    def __iter__(self):\n",
    "        node = self.head\n",
    "        while node is not None:\n",
    "            yield node\n",
    "            node = node.next"
   ]
  },
  {
   "cell_type": "code",
   "execution_count": 3,
   "metadata": {},
   "outputs": [
    {
     "data": {
      "text/plain": [
       "None"
      ]
     },
     "execution_count": 3,
     "metadata": {},
     "output_type": "execute_result"
    }
   ],
   "source": [
    "sl_list = SinglyLinkedList()\n",
    "sl_list"
   ]
  },
  {
   "cell_type": "code",
   "execution_count": 4,
   "metadata": {},
   "outputs": [
    {
     "data": {
      "text/plain": [
       "a -> None"
      ]
     },
     "execution_count": 4,
     "metadata": {},
     "output_type": "execute_result"
    }
   ],
   "source": [
    "first_node = Node(\"a\")  #Created a node object with data \"a\" and link None\n",
    "sl_list.head = first_node #Linking first_node with head\n",
    "sl_list"
   ]
  },
  {
   "cell_type": "code",
   "execution_count": 5,
   "metadata": {},
   "outputs": [
    {
     "data": {
      "text/plain": [
       "a -> b -> c -> None"
      ]
     },
     "execution_count": 5,
     "metadata": {},
     "output_type": "execute_result"
    }
   ],
   "source": [
    "second_node = Node(\"b\")\n",
    "third_node = Node(\"c\")\n",
    "first_node.next = second_node\n",
    "second_node.next = third_node\n",
    "sl_list"
   ]
  },
  {
   "cell_type": "code",
   "execution_count": 8,
   "metadata": {},
   "outputs": [
    {
     "name": "stdout",
     "output_type": "stream",
     "text": [
      "a\n",
      "b\n",
      "c\n"
     ]
    }
   ],
   "source": [
    "#List Traversal\n",
    "#Normal for loop can be used for sl_list (an object of SinglyLinkedList class), because __iter__ function is defined\n",
    "for node in sl_list:\n",
    "    print(node)"
   ]
  },
  {
   "cell_type": "code",
   "execution_count": null,
   "metadata": {},
   "outputs": [],
   "source": []
  }
 ],
 "metadata": {
  "kernelspec": {
   "display_name": "Python 3",
   "language": "python",
   "name": "python3"
  },
  "language_info": {
   "codemirror_mode": {
    "name": "ipython",
    "version": 3
   },
   "file_extension": ".py",
   "mimetype": "text/x-python",
   "name": "python",
   "nbconvert_exporter": "python",
   "pygments_lexer": "ipython3",
   "version": "3.7.1"
  }
 },
 "nbformat": 4,
 "nbformat_minor": 2
}
