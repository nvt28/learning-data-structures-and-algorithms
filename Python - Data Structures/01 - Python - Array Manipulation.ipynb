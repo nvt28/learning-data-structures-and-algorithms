{
 "cells": [
  {
   "cell_type": "markdown",
   "metadata": {},
   "source": [
    "### Array Inversions\n",
    "\n",
    "Inversion Count for an array indicates – how far (or close) the array is from being sorted.<br>\n",
    "If the array is already sorted then the inversion count is 0.<br>\n",
    "If the array is sorted in the reverse order that inversion count is the maximum.<br>\n",
    "\n",
    "In an array `a`, two elements `a[i]` and `a[j]` form an inversion if `a[i] > a[j]` and `i < j`."
   ]
  },
  {
   "cell_type": "markdown",
   "metadata": {},
   "source": [
    "## Shallow Lists\n",
    "Python has shallow Lists\n",
    "https://www.geeksforgeeks.org/python-using-2d-arrays-lists-the-right-way/"
   ]
  },
  {
   "cell_type": "markdown",
   "metadata": {},
   "source": [
    "### Element Frequency"
   ]
  },
  {
   "cell_type": "code",
   "execution_count": 1,
   "metadata": {},
   "outputs": [],
   "source": [
    "A = [1, 2, 8, 3, 2, 2, 2, 5, 1];   \n",
    "f = {}\n",
    "\n",
    "for item in A:\n",
    "    if item in f.keys():\n",
    "        f[item] = f[item]+1\n",
    "    else:\n",
    "        f[item] = 1            "
   ]
  },
  {
   "cell_type": "code",
   "execution_count": 2,
   "metadata": {},
   "outputs": [
    {
     "data": {
      "text/plain": [
       "{1: 2, 2: 4, 8: 1, 3: 1, 5: 1}"
      ]
     },
     "execution_count": 2,
     "metadata": {},
     "output_type": "execute_result"
    }
   ],
   "source": [
    "f"
   ]
  },
  {
   "cell_type": "code",
   "execution_count": null,
   "metadata": {},
   "outputs": [],
   "source": []
  }
 ],
 "metadata": {
  "kernelspec": {
   "display_name": "Python 3",
   "language": "python",
   "name": "python3"
  },
  "language_info": {
   "codemirror_mode": {
    "name": "ipython",
    "version": 3
   },
   "file_extension": ".py",
   "mimetype": "text/x-python",
   "name": "python",
   "nbconvert_exporter": "python",
   "pygments_lexer": "ipython3",
   "version": "3.7.1"
  }
 },
 "nbformat": 4,
 "nbformat_minor": 2
}
