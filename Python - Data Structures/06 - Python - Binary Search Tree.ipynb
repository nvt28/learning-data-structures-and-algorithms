{
 "cells": [
  {
   "cell_type": "markdown",
   "metadata": {},
   "source": [
    "## Binary Search Trees\n",
    "\n",
    "- Trees are non-linear data structures used to represent hierarchical data.\n",
    "- Each node in a tree can have multiple children node\n",
    "- The topmost node of the tree is called _root_\n",
    "- Nodes with no children are called _leaves_"
   ]
  },
  {
   "cell_type": "markdown",
   "metadata": {},
   "source": [
    "#### Binary Tree Properties\n",
    "\n",
    "1. The maximum number of nodes at level `l` of a binary tree is `2^l`, assuming root to be at level 0.\n",
    "2. The Maximum number of nodes in a binary tree of height `h` is `2^h – 1`, assuming hight of a tree with single node is 1.\n",
    "3. In a Binary Tree with `N` nodes, minimum possible height or the minimum number of levels is `| Log(N+1) |`.\n",
    "4. A Binary Tree with `L` leaves has at least `|Log L| + 1` levels. \n",
    "5. In Binary tree where every node has 0 or 2 children, the number of leaf nodes is always one more than nodes with two children."
   ]
  },
  {
   "cell_type": "code",
   "execution_count": 1,
   "metadata": {},
   "outputs": [],
   "source": [
    "class Node:\n",
    "    def __init__(self, data):\n",
    "        self.data = data\n",
    "        self.left = None\n",
    "        self.right = None"
   ]
  },
  {
   "cell_type": "code",
   "execution_count": 10,
   "metadata": {},
   "outputs": [],
   "source": [
    "#In-order traversal of the tree\n",
    "def in_order(root):\n",
    "    if root is not None:\n",
    "        in_order(root.left)\n",
    "        print(root.data, end = \" \")\n",
    "        in_order(root.right)\n",
    "\n",
    "#Pre-order traversal of the tree\n",
    "def pre_order(root):\n",
    "    if root is not None:\n",
    "        print(root.data, end = \" \")\n",
    "        pre_order(root.left)\n",
    "        pre_order(root.right)\n",
    "\n",
    "#Post-order traversal of the tree\n",
    "def post_order(root):\n",
    "    if root is not None:\n",
    "        post_order(root.left)\n",
    "        post_order(root.right)\n",
    "        print(root.data, end = \" \")"
   ]
  },
  {
   "cell_type": "code",
   "execution_count": 11,
   "metadata": {},
   "outputs": [],
   "source": [
    "#Insertion into a binary search tree\n",
    "def insert(root, key):\n",
    "    if root is None:\n",
    "        return Node(key)\n",
    "    else:\n",
    "        if root.data < key:\n",
    "            root.right = insert(root.right, key)\n",
    "        else:\n",
    "            root.left = insert(root.left, key)\n",
    "    return root"
   ]
  },
  {
   "cell_type": "code",
   "execution_count": 12,
   "metadata": {},
   "outputs": [],
   "source": [
    "A = [3, 5, 1, 2, 4]\n",
    "root = None\n",
    "for num in A:\n",
    "    root = insert(root, num)"
   ]
  },
  {
   "cell_type": "code",
   "execution_count": 13,
   "metadata": {},
   "outputs": [
    {
     "name": "stdout",
     "output_type": "stream",
     "text": [
      "In-order Traversal:\t 1 2 3 4 5 \n",
      "Pre-order Traversal:\t 3 1 2 5 4 \n",
      "Post-order Traversal:\t 2 1 4 5 3 "
     ]
    }
   ],
   "source": [
    "print(\"In-order Traversal:\\t\", end = \" \")\n",
    "in_order(root)       #In-order traversal results in a sorted list of data\n",
    "print(\"\\nPre-order Traversal:\\t\", end = \" \")\n",
    "pre_order(root)\n",
    "print(\"\\nPost-order Traversal:\\t\", end = \" \")\n",
    "post_order(root)"
   ]
  },
  {
   "cell_type": "code",
   "execution_count": 14,
   "metadata": {},
   "outputs": [],
   "source": [
    "def search(root, key):\n",
    "    if root is None:\n",
    "        return False\n",
    "    elif root.data == key:\n",
    "        return True\n",
    "    elif root.data < key:\n",
    "        return search(root.right, key)\n",
    "    else:\n",
    "        return search(root.left, key)    "
   ]
  },
  {
   "cell_type": "code",
   "execution_count": 15,
   "metadata": {},
   "outputs": [
    {
     "data": {
      "text/plain": [
       "True"
      ]
     },
     "execution_count": 15,
     "metadata": {},
     "output_type": "execute_result"
    }
   ],
   "source": [
    "search(root, 5)"
   ]
  },
  {
   "cell_type": "code",
   "execution_count": 16,
   "metadata": {},
   "outputs": [
    {
     "data": {
      "text/plain": [
       "False"
      ]
     },
     "execution_count": 16,
     "metadata": {},
     "output_type": "execute_result"
    }
   ],
   "source": [
    "search(root, 6)"
   ]
  },
  {
   "cell_type": "code",
   "execution_count": null,
   "metadata": {},
   "outputs": [],
   "source": []
  }
 ],
 "metadata": {
  "kernelspec": {
   "display_name": "Python 3",
   "language": "python",
   "name": "python3"
  },
  "language_info": {
   "codemirror_mode": {
    "name": "ipython",
    "version": 3
   },
   "file_extension": ".py",
   "mimetype": "text/x-python",
   "name": "python",
   "nbconvert_exporter": "python",
   "pygments_lexer": "ipython3",
   "version": "3.7.1"
  }
 },
 "nbformat": 4,
 "nbformat_minor": 2
}
