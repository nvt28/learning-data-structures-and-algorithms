{
 "cells": [
  {
   "cell_type": "markdown",
   "metadata": {},
   "source": [
    "## Trees\n",
    "\n",
    "- Trees are non-linear data structures used to represent hierarchical data.\n",
    "- Each node in a tree can have multiple children node\n",
    "- The topmost node of the tree is called _root_\n",
    "- Nodes with no children are called _leaves_\n",
    "- A tree is an **undirected acyclic graph**."
   ]
  },
  {
   "cell_type": "markdown",
   "metadata": {},
   "source": [
    "#### Functions\n",
    "The functions associated with tree are:\n",
    "\n",
    "|Function | Description | Time Complexity|\n",
    "|---|---|---|\n",
    "|`size()`|Returns the total number of nodes in the tree | O(n) |\n",
    "|`hight()`|Returns the hight (or depth) of the tree | O(n) |\n",
    "|`width()`|Returns the width (or diameter) of the tree | O(n) |\n",
    "|`in_order()`|Visits each node of the tree using In-order traversal| O(n) |\n",
    "|`pre_order()`|Visits each node of the tree using Pre-order traversal| O(n) |\n",
    "|`post_order()`|Visits each node of the tree using Post-order traversal| O(n) |\n",
    "|`search(X)`|Searches for element X in the tree| O(n) |"
   ]
  },
  {
   "cell_type": "markdown",
   "metadata": {},
   "source": [
    "#### Representation:\n",
    "A tree is represented by a pointer to the root node. Each node in a tree consists of at least two parts - data value and a list of Pointers (or reference) to all the children nodes. In case of Binary tree, each node consists of three parts:\n",
    "- Data\n",
    "- Pointer (Or reference) to the left child\n",
    "- Pointer (Or reference) to the right child\n",
    "\n",
    "In C, we can represent a node using structures.\n",
    "In Java, C# or Python, Tree can be represented as a Node class with data and two references to Node objects.<br>\n",
    "Certain Python libraries provide ready to use tree functionalities. E.g., anytree"
   ]
  },
  {
   "cell_type": "code",
   "execution_count": 1,
   "metadata": {},
   "outputs": [],
   "source": [
    "#Representation of a Node of a Binary Tree\n",
    "class Node:\n",
    "    def __init__(self, data):\n",
    "        self.data = data\n",
    "        self.left = None\n",
    "        self.right = None"
   ]
  },
  {
   "cell_type": "code",
   "execution_count": 2,
   "metadata": {},
   "outputs": [],
   "source": [
    "''' Creating a simple Tree with 5 nodes\n",
    "    _1_\n",
    "   /   \\\n",
    "  2     3\n",
    " / \\     \\\n",
    "4   5     6\n",
    "'''\n",
    "root = Node(1)\n",
    "root.left  = Node(2);\n",
    "root.right = Node(3);\n",
    "root.left.left = Node(4);\n",
    "root.left.right = Node(5);\n",
    "root.right.right = Node(6);"
   ]
  },
  {
   "cell_type": "code",
   "execution_count": 5,
   "metadata": {},
   "outputs": [],
   "source": [
    "#In-order traversal of the tree\n",
    "def in_order(root):\n",
    "    if root is not None:\n",
    "        in_order(root.left)\n",
    "        print(root.data, end = \" \")\n",
    "        in_order(root.right)\n",
    "\n",
    "#Pre-order traversal of the tree\n",
    "def pre_order(root):\n",
    "    if root is not None:\n",
    "        print(root.data, end = \" \")\n",
    "        pre_order(root.left)\n",
    "        pre_order(root.right)\n",
    "\n",
    "#Post-order traversal of the tree\n",
    "def post_order(root):\n",
    "    if root is not None:\n",
    "        post_order(root.left)\n",
    "        post_order(root.right)\n",
    "        print(root.data, end = \" \")"
   ]
  },
  {
   "cell_type": "code",
   "execution_count": 6,
   "metadata": {},
   "outputs": [
    {
     "name": "stdout",
     "output_type": "stream",
     "text": [
      "In-order Traversal:\t 4 2 5 1 3 6 \n",
      "Pre-order Traversal:\t 1 2 4 5 3 6 \n",
      "Post-order Traversal:\t 4 5 2 6 3 1 "
     ]
    }
   ],
   "source": [
    "print(\"In-order Traversal:\\t\", end = \" \")\n",
    "in_order(root)\n",
    "print(\"\\nPre-order Traversal:\\t\", end = \" \")\n",
    "pre_order(root)\n",
    "print(\"\\nPost-order Traversal:\\t\", end = \" \")\n",
    "post_order(root)"
   ]
  },
  {
   "cell_type": "code",
   "execution_count": 7,
   "metadata": {},
   "outputs": [],
   "source": [
    "#Function to find the hight of a tree\n",
    "def hight(root):\n",
    "    if root is not None:\n",
    "        return 1 + max(hight(root.left), hight(root.right))\n",
    "    else: return 0\n",
    "\n",
    "#Function to find the number of nodes in a tree\n",
    "def size(root):\n",
    "    if root is not None:\n",
    "        return 1 + size(root.left) + size(root.right)\n",
    "    else: return 0"
   ]
  },
  {
   "cell_type": "code",
   "execution_count": 11,
   "metadata": {},
   "outputs": [],
   "source": [
    "def custom_hight(root, ans):\n",
    "    if (root == None):\n",
    "        return 0\n",
    "    left_height  = custom_hight(root.left, ans)\n",
    "    right_height = custom_hight(root.right, ans)\n",
    " \n",
    "    #update the answer, because diameter of a tree is the maximum value of (left_height + right_height + 1) for each node\n",
    "    ans[0] = max(ans[0], 1 + left_height + right_height)\n",
    "    return 1 + max(left_height, right_height)\n",
    "\n",
    "#Function to find width (or diameter) of a tree, i.e., the no. of nodes on the longest path between two leaves in the tree.\n",
    "def width(root):\n",
    "    ans = [0]  # This will store the final answer\n",
    "    h = custom_hight(root, ans)\n",
    "    return ans[0]"
   ]
  },
  {
   "cell_type": "code",
   "execution_count": 13,
   "metadata": {},
   "outputs": [
    {
     "name": "stdout",
     "output_type": "stream",
     "text": [
      "Hight of the Tree = 3\n",
      "Width of the Tree = 5\n",
      "Number of nodes in the Tree = 6\n"
     ]
    }
   ],
   "source": [
    "print(f'Hight of the Tree = {hight(root)}')\n",
    "print(f'Width of the Tree = {width(root)}')\n",
    "print(f'Number of nodes in the Tree = {size(root)}')"
   ]
  },
  {
   "cell_type": "markdown",
   "metadata": {},
   "source": [
    "### Types of Trees:\n",
    "\n",
    "1. Complete Trees\n",
    "\n",
    "In a complete n-ary tree, `L = (n-1)*I + 1`\n",
    "where L = no. of leaf nodes, I = no. of Internal Nodes\n",
    "\n",
    "2. Full Trees\n",
    "3. Perfect Trees\n",
    "4. Degenerate Trees\n"
   ]
  },
  {
   "cell_type": "code",
   "execution_count": null,
   "metadata": {},
   "outputs": [],
   "source": []
  }
 ],
 "metadata": {
  "kernelspec": {
   "display_name": "Python 3",
   "language": "python",
   "name": "python3"
  },
  "language_info": {
   "codemirror_mode": {
    "name": "ipython",
    "version": 3
   },
   "file_extension": ".py",
   "mimetype": "text/x-python",
   "name": "python",
   "nbconvert_exporter": "python",
   "pygments_lexer": "ipython3",
   "version": "3.7.1"
  }
 },
 "nbformat": 4,
 "nbformat_minor": 2
}
