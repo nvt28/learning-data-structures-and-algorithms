{
 "cells": [
  {
   "cell_type": "markdown",
   "metadata": {},
   "source": [
    "## Stacks\n",
    "\n",
    "- Stacks are dynamic data structures that follow the Last In First Out (LIFO) principle. \n",
    "- The last item to be inserted into a stack is the first one to be deleted from it. "
   ]
  },
  {
   "cell_type": "markdown",
   "metadata": {},
   "source": [
    "#### Functions\n",
    "The functions associated with stack are:\n",
    "\n",
    "|Function | Description | Time Complexity|\n",
    "|---|---|---|\n",
    "|`empty()`|Returns whether the stack is empty | O(1) |\n",
    "|`size()`|Returns the size of the stack | O(1) |\n",
    "|`top()`|Returns a reference to the top most element of the stack | O(1) |\n",
    "|`push(X)`|Adds the element 'X' at the top of the stack | O(1) |\n",
    "|`pop()`|Deletes the top most element of the stack | O(1) |"
   ]
  },
  {
   "cell_type": "markdown",
   "metadata": {},
   "source": [
    "### Using `List` as a Stack\n",
    "\n",
    "- Push operation can be carried out using `append(item)`\n",
    "- Pop can be carried out using `pop()`\n",
    "- Size can be found using `len()`\n",
    "- Empty stack can be found using `len()`"
   ]
  },
  {
   "cell_type": "markdown",
   "metadata": {},
   "source": [
    "#### Disadvantages\n",
    "- It can run into speed issue as it grows.\n",
    "- The items in list are stored next to each other in memory, if the stack grows bigger than the block of memory that currently hold it, then Python needs to do some memory allocations. \n",
    "- This can lead to some `append()` calls taking much longer than other ones."
   ]
  },
  {
   "cell_type": "code",
   "execution_count": 1,
   "metadata": {},
   "outputs": [
    {
     "name": "stdout",
     "output_type": "stream",
     "text": [
      "[10, 23]\n",
      "Size of stack = 2\n",
      "23\n",
      "[10]\n",
      "10\n",
      "[]\n"
     ]
    }
   ],
   "source": [
    "stack = []\n",
    "stack.append(10)\n",
    "stack.append(23)\n",
    "print(stack)\n",
    "print(f'Size of stack = {len(stack)}')\n",
    "\n",
    "print(stack.pop())\n",
    "print(stack)\n",
    "print(stack.pop())\n",
    "print(stack)"
   ]
  },
  {
   "cell_type": "markdown",
   "metadata": {},
   "source": [
    "### Using `collections.deque` as a Stack\n",
    "\n",
    "- Push operation can be carried out using `append(item)`\n",
    "- Pop can be carried out using `pop()`\n",
    "- Size can be found using `len()`\n",
    "- Empty stack can be found using `len()`\n",
    "\n",
    "Deque is preferred over list, as it provides an O(1) time complexity for push and pop operations as compared to list which provides O(n) time complexity.\n",
    "\n",
    "Deque has same methods (`append()` and `pop()`) as list."
   ]
  },
  {
   "cell_type": "code",
   "execution_count": 1,
   "metadata": {},
   "outputs": [
    {
     "name": "stdout",
     "output_type": "stream",
     "text": [
      "deque([10, 23])\n",
      "Size of stack = 2, Top of the stack = 23\n",
      "23\n",
      "deque([10])\n",
      "10\n",
      "deque([])\n"
     ]
    }
   ],
   "source": [
    "from collections import deque\n",
    "\n",
    "def top(stack):\n",
    "    return stack[len(stack)-1]\n",
    " \n",
    "stack = deque()\n",
    "stack.append(10)\n",
    "stack.append(23)\n",
    "print(stack)\n",
    "print(f'Size of stack = {len(stack)}, Top of the stack = {top(stack)}')\n",
    "\n",
    "print(stack.pop())\n",
    "print(stack)\n",
    "print(stack.pop())\n",
    "print(stack)"
   ]
  },
  {
   "cell_type": "code",
   "execution_count": 4,
   "metadata": {},
   "outputs": [
    {
     "data": {
      "text/plain": [
       "0"
      ]
     },
     "execution_count": 4,
     "metadata": {},
     "output_type": "execute_result"
    }
   ],
   "source": [
    "len(stack)"
   ]
  },
  {
   "cell_type": "markdown",
   "metadata": {},
   "source": [
    "### Using `queue.LifoQueue` as a Stack\n",
    "\n",
    "- Push operation can be carried out using `put(item)`\n",
    "- Pop can be carried out using `get()`\n",
    "- Size can be found using `qsize()`\n",
    "- Empty stack can be found using `empty()`\n",
    "- Empty stack can be found using `full()`, returns `True` if there are `maxsize` items in the queue\n",
    "\n",
    "Queue module also has a Queue, which is basically a Queue. \n",
    "\n",
    "There are additional functions available in this module:\n",
    "- `maxsize` – Number of items allowed in the queue\n",
    "- `get_nowait()` – Return an item if one is immediately available, else raise QueueEmpty\n",
    "    - If queue is empty, `get()` waits until an item is available\n",
    "- `put_nowait(item)` – Put an item into the queue without blocking\n",
    "    - If the queue is full, `put()` waits until a free slot is available before adding the item"
   ]
  },
  {
   "cell_type": "code",
   "execution_count": 3,
   "metadata": {},
   "outputs": [
    {
     "name": "stdout",
     "output_type": "stream",
     "text": [
      "<queue.LifoQueue object at 0x00000296C4A5D908>\n",
      "Size of stack = 2\n",
      "23\n",
      "<queue.LifoQueue object at 0x00000296C4A5D908>\n",
      "10\n",
      "<queue.LifoQueue object at 0x00000296C4A5D908>\n",
      "Full:  False\n",
      "Empty:  True\n"
     ]
    }
   ],
   "source": [
    "from queue import LifoQueue\n",
    "\n",
    "# Initializing a stack\n",
    "stack = LifoQueue(maxsize = 3)\n",
    "stack.put(10)\n",
    "stack.put(23)\n",
    "print(stack)\n",
    "print(f'Size of stack = {stack.qsize()}')\n",
    "\n",
    "print(stack.get())\n",
    "print(stack)\n",
    "print(stack.get())\n",
    "print(stack)\n",
    "print(\"Full: \", stack.full())\n",
    "print(\"Empty: \", stack.empty())"
   ]
  },
  {
   "cell_type": "code",
   "execution_count": null,
   "metadata": {},
   "outputs": [],
   "source": []
  }
 ],
 "metadata": {
  "kernelspec": {
   "display_name": "Python 3",
   "language": "python",
   "name": "python3"
  },
  "language_info": {
   "codemirror_mode": {
    "name": "ipython",
    "version": 3
   },
   "file_extension": ".py",
   "mimetype": "text/x-python",
   "name": "python",
   "nbconvert_exporter": "python",
   "pygments_lexer": "ipython3",
   "version": "3.7.1"
  }
 },
 "nbformat": 4,
 "nbformat_minor": 2
}
