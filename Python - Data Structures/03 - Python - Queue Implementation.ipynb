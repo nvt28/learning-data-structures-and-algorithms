{
 "cells": [
  {
   "cell_type": "markdown",
   "metadata": {},
   "source": [
    "## Queues\n",
    "\n",
    "- Queues are dynamic data structures that follow the First In First Out (FIFO) principle.\n",
    "- The first item to be inserted into a queue is the first one to be deleted from it."
   ]
  },
  {
   "cell_type": "markdown",
   "metadata": {},
   "source": [
    "#### Functions\n",
    "The functions associated with queue are:\n",
    "\n",
    "|Function | Description | Time Complexity|\n",
    "|---|---|---|\n",
    "|`empty()`|Returns whether the queue is empty | O(1) |\n",
    "|`size()`|Returns the size of the queue | O(1) |\n",
    "|`front()`|Returns the front item from queue | O(1) |\n",
    "|`rear()`|Returns the front item from queue | O(1) |\n",
    "|`enqueue(X)`|Adds an item to the queue | O(1) |\n",
    "|`dequeue()`|Removes an item from the queue | O(1) |"
   ]
  },
  {
   "cell_type": "markdown",
   "metadata": {},
   "source": [
    "### Using `List` as a Queue\n",
    "\n",
    "- Enqueue operation can be carried out using `append(item)`\n",
    "- Dequeue can be carried out using `pop(0)`\n",
    "- Size can be found using `len()`\n",
    "- Empty stack can be found using `len()`\n",
    "\n",
    "However, lists are quite slow for this purpose because inserting or deleting an element at the beginning requires shifting all of the other elements by one, requiring **O(n)** time."
   ]
  },
  {
   "cell_type": "code",
   "execution_count": 1,
   "metadata": {},
   "outputs": [
    {
     "name": "stdout",
     "output_type": "stream",
     "text": [
      "Initial queue\n",
      "['a', 'b', 'c']\n",
      "\n",
      "Elements dequeued from queue\n",
      "a\n",
      "b\n",
      "c\n",
      "\n",
      "Queue after removing elements\n",
      "[]\n"
     ]
    }
   ],
   "source": [
    "queue = []\n",
    "\n",
    "queue.append('a')\n",
    "queue.append('b')\n",
    "queue.append('c')\n",
    " \n",
    "print(\"Initial queue\")\n",
    "print(queue)\n",
    " \n",
    "print(\"\\nElements dequeued from queue\")\n",
    "print(queue.pop(0))\n",
    "print(queue.pop(0))\n",
    "print(queue.pop(0))\n",
    " \n",
    "print(\"\\nQueue after removing elements\")\n",
    "print(queue)"
   ]
  },
  {
   "cell_type": "markdown",
   "metadata": {},
   "source": [
    "### Using `collections.deque` as a Queue\n",
    "\n",
    "- Enqueue operation can be carried out using `append(item)`\n",
    "- Dequeue can be carried out using `popleft()`\n",
    "- Size can be found using `len()`\n",
    "- Empty stack can be found using `len()`\n",
    "\n",
    "Deque is preferred over list, as it provides an O(1) time complexity for push and pop operations as compared to list which provides O(n) time complexity."
   ]
  },
  {
   "cell_type": "code",
   "execution_count": 2,
   "metadata": {},
   "outputs": [
    {
     "name": "stdout",
     "output_type": "stream",
     "text": [
      "Initial queue\n",
      "deque(['a', 'b', 'c'])\n",
      "\n",
      "Elements dequeued from the queue\n",
      "a\n",
      "b\n",
      "c\n",
      "\n",
      "Queue after removing elements\n",
      "deque([])\n"
     ]
    }
   ],
   "source": [
    "from collections import deque\n",
    "q = deque()\n",
    "\n",
    "q.append('a')\n",
    "q.append('b')\n",
    "q.append('c')\n",
    " \n",
    "print(\"Initial queue\")\n",
    "print(q)\n",
    " \n",
    "print(\"\\nElements dequeued from the queue\")\n",
    "print(q.popleft())\n",
    "print(q.popleft())\n",
    "print(q.popleft())\n",
    " \n",
    "print(\"\\nQueue after removing elements\")\n",
    "print(q)"
   ]
  },
  {
   "cell_type": "code",
   "execution_count": 3,
   "metadata": {},
   "outputs": [
    {
     "data": {
      "text/plain": [
       "0"
      ]
     },
     "execution_count": 3,
     "metadata": {},
     "output_type": "execute_result"
    }
   ],
   "source": [
    "len(q)"
   ]
  },
  {
   "cell_type": "markdown",
   "metadata": {},
   "source": [
    "### Using `queue.Queue` as a Queue\n",
    "\n",
    "- Enqueue operation can be carried out using `put(item)`\n",
    "- Dequeue can be carried out using `get()`\n",
    "- Size can be found using `qsize()`\n",
    "- Empty queue can be found using `empty()`\n",
    "- Empty queue can be found using `full()`, returns `True` if there are `maxsize` items in the queue\n",
    "\n",
    "Queue module also has a LifoQueue, which is basically a Stack. \n",
    "\n",
    "There are additional functions available in this module:\n",
    "- `maxsize` – Number of items allowed in the queue\n",
    "- `get_nowait()` – Return an item if one is immediately available, else raise QueueEmpty\n",
    "    - If queue is empty, `get()` waits until an item is available\n",
    "- `put_nowait(item)` – Put an item into the queue without blocking\n",
    "    - If the queue is full, `put()` waits until a free slot is available before adding the item"
   ]
  },
  {
   "cell_type": "code",
   "execution_count": 8,
   "metadata": {},
   "outputs": [
    {
     "name": "stdout",
     "output_type": "stream",
     "text": [
      "Size:  0\n",
      "Full:  True\n",
      "\n",
      "Elements dequeued from the queue\n",
      "a\n",
      "b\n",
      "c\n",
      "Empty:  True\n",
      "Empty:  False\n",
      "Full:  False\n"
     ]
    }
   ],
   "source": [
    "from queue import Queue\n",
    " \n",
    "# Initializing a queue\n",
    "q = Queue(maxsize = 3)\n",
    " \n",
    "# qsize() give the current size of the Queue\n",
    "print(\"Size: \", q.qsize())\n",
    " \n",
    "# Adding of element to queue\n",
    "q.put('a')\n",
    "q.put('b')\n",
    "q.put('c')\n",
    "print(\"Full: \", q.full())\n",
    " \n",
    "# Removing element from queue\n",
    "print(\"\\nElements dequeued from the queue\")\n",
    "print(q.get())\n",
    "print(q.get())\n",
    "print(q.get())\n",
    "print(\"Empty: \", q.empty())\n",
    " \n",
    "q.put(1)\n",
    "print(\"Empty: \", q.empty())\n",
    "print(\"Full: \", q.full())"
   ]
  },
  {
   "cell_type": "code",
   "execution_count": null,
   "metadata": {},
   "outputs": [],
   "source": []
  }
 ],
 "metadata": {
  "kernelspec": {
   "display_name": "Python 3",
   "language": "python",
   "name": "python3"
  },
  "language_info": {
   "codemirror_mode": {
    "name": "ipython",
    "version": 3
   },
   "file_extension": ".py",
   "mimetype": "text/x-python",
   "name": "python",
   "nbconvert_exporter": "python",
   "pygments_lexer": "ipython3",
   "version": "3.7.1"
  }
 },
 "nbformat": 4,
 "nbformat_minor": 2
}
